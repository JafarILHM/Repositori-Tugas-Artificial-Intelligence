{
 "cells": [
  {
   "cell_type": "code",
   "execution_count": 153,
   "id": "26aaa70e-34e2-4481-88dd-ae8e68eaa4ae",
   "metadata": {},
   "outputs": [],
   "source": [
    "import random"
   ]
  },
  {
   "cell_type": "code",
   "execution_count": 154,
   "id": "b667b00f-2ef9-4407-8d90-aeb90498cbb4",
   "metadata": {},
   "outputs": [],
   "source": [
    "# Langkah 1: Inisialisasikan populasi secara acak\n",
    "POPULATION_SIZE = 50        # jumlah individu per generasi\n",
    "CHROMOSOME_LENGTH = 5       # 5 bit untuk merepresentasikan 0-31\n",
    "MAX_GENERATIONS = 100       # batas maksimal generasi\n",
    "\n",
    "# Batas domain x: 0 <= x <= 31\n",
    "X_MIN, X_MAX = 0, 31\n",
    "\n",
    "# Fungsi yang akan dioptimasi: f(x) = -x^2 + 10\n",
    "def objective(x):\n",
    "    return - (x ** 2) + 10"
   ]
  },
  {
   "cell_type": "code",
   "execution_count": 155,
   "id": "078102a0-5c52-4f07-9898-f8691ac64580",
   "metadata": {},
   "outputs": [],
   "source": [
    "# Langkah 2: Definisikan kelas individu untuk seleksi, persilangan, mutasi, dan fitness\n",
    "class Individual:\n",
    "    def __init__(self, chromosome=None):\n",
    "        # Chromosome adalah list bit '0' atau '1'\n",
    "        if chromosome:\n",
    "            self.chromosome = chromosome\n",
    "        else:\n",
    "            # Buat kromosom acak\n",
    "            self.chromosome = [random.choice(['0', '1']) for _ in range(CHROMOSOME_LENGTH)]\n",
    "        self.fitness = self.calculate_fitness()\n",
    "\n",
    "    @classmethod\n",
    "    def create_random(cls):\n",
    "        return cls()\n",
    "\n",
    "    @staticmethod\n",
    "    def mutate_gene():\n",
    "        # Mutasi: balik satu bit pada posisi acak\n",
    "        return random.choice(['0', '1'])\n",
    "\n",
    "    def mate(self, other):\n",
    "        # Persilangan satu titik\n",
    "        point = random.randint(1, CHROMOSOME_LENGTH - 1)\n",
    "        child_chr = self.chromosome[:point] + other.chromosome[point:]\n",
    "        # Mutasi dengan probabilitas kecil\n",
    "        for i in range(CHROMOSOME_LENGTH):\n",
    "            if random.random() < 0.05:  # 5% mutation rate\n",
    "                child_chr[i] = Individual.mutate_gene()\n",
    "        return Individual(child_chr)\n",
    "\n",
    "    def decode(self):\n",
    "        # Konversi bitstring ke integer\n",
    "        bit_str = ''.join(self.chromosome)\n",
    "        return int(bit_str, 2)\n",
    "\n",
    "    def calculate_fitness(self):\n",
    "        x = self.decode()\n",
    "        # Pastikan dalam batas\n",
    "        x = max(X_MIN, min(X_MAX, x))\n",
    "        return objective(x)"
   ]
  },
  {
   "cell_type": "code",
   "execution_count": 156,
   "id": "84fdac01-773a-4191-8fe0-d973ed2c8181",
   "metadata": {},
   "outputs": [],
   "source": [
    "# Langkah 3: Fungsi utama untuk menjalankan GA hingga konvergen\n",
    "\n",
    "def main():\n",
    "    # Inisialisasi populasi\n",
    "    population = [Individual.create_random() for _ in range(POPULATION_SIZE)]\n",
    "    generation = 0\n",
    "\n",
    "    while generation < MAX_GENERATIONS:\n",
    "        # Urutkan populasi berdasarkan fitness menurun (maximization)\n",
    "        population.sort(key=lambda ind: ind.fitness, reverse=True)\n",
    "        best = population[0]\n",
    "\n",
    "        print(f\"Gen {generation:3d} | x = {best.decode():2d} | Fitness = {best.fitness:.2f}\")\n",
    "\n",
    "        # Kondisi berhenti: fitness mencapai nilai maksimum teoritis\n",
    "        if best.fitness >= objective(0):\n",
    "            break\n",
    "\n",
    "        # Seleksi elit (top 10%) langsung lanjut\n",
    "        s = int(0.1 * POPULATION_SIZE)\n",
    "        next_gen = population[:s]\n",
    "\n",
    "        # Crossover dan mutasi dari 90% populasi\n",
    "        s = POPULATION_SIZE - s\n",
    "        for _ in range(s):\n",
    "            parent1 = random.choice(population[:POPULATION_SIZE//2])\n",
    "            parent2 = random.choice(population[:POPULATION_SIZE//2])\n",
    "            child = parent1.mate(parent2)\n",
    "            next_gen.append(child)\n",
    "\n",
    "        population = next_gen\n",
    "        generation += 1\n",
    "\n",
    "    print(\"\\nSolusi terbaik:\")\n",
    "    print(f\"x = {best.decode()}, f(x) = {best.fitness}\")"
   ]
  },
  {
   "cell_type": "code",
   "execution_count": 157,
   "id": "4471743e-8286-4282-94f5-377f8bb66aba",
   "metadata": {},
   "outputs": [
    {
     "name": "stdout",
     "output_type": "stream",
     "text": [
      "Gen   0 | x =  0 | Fitness = 10.00\n",
      "\n",
      "Solusi terbaik:\n",
      "x = 0, f(x) = 10\n"
     ]
    }
   ],
   "source": [
    "if __name__ == '__main__':\n",
    "    main()"
   ]
  }
 ],
 "metadata": {
  "kernelspec": {
   "display_name": "Python 3 (ipykernel)",
   "language": "python",
   "name": "python3"
  },
  "language_info": {
   "codemirror_mode": {
    "name": "ipython",
    "version": 3
   },
   "file_extension": ".py",
   "mimetype": "text/x-python",
   "name": "python",
   "nbconvert_exporter": "python",
   "pygments_lexer": "ipython3",
   "version": "3.12.7"
  }
 },
 "nbformat": 4,
 "nbformat_minor": 5
}
