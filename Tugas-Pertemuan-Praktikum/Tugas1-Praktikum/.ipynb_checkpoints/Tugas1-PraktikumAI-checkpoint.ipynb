{
 "cells": [
  {
   "cell_type": "code",
   "execution_count": 1,
   "id": "9bf2dc53-cfd3-480d-8dbe-be8d2f5be8f8",
   "metadata": {},
   "outputs": [],
   "source": [
    "import numpy as np\n",
    "import pandas as pd"
   ]
  },
  {
   "cell_type": "code",
   "execution_count": 2,
   "id": "4a980238-d1a4-45e0-a4f7-7394937c3df0",
   "metadata": {},
   "outputs": [],
   "source": [
    "# 1. Membuat Data Cell"
   ]
  },
  {
   "cell_type": "code",
   "execution_count": 3,
   "id": "9bc5234b-e0d8-41a4-9333-a0edb8a0ea3e",
   "metadata": {},
   "outputs": [
    {
     "name": "stdout",
     "output_type": "stream",
     "text": [
      "   Zahra  Lily  Dito  Naufal\n",
      "0     64    60    65      37\n",
      "1     46    70    39      58\n",
      "2     10    74    73      25\n"
     ]
    }
   ],
   "source": [
    "my_data = np.random.randint(0, 101, size=(3, 4))\n",
    "column_names = [\"Zahra\", \"Lily\", \"Dito\", \"Naufal\"]\n",
    "data_frame = pd.DataFrame(data=my_data, columns=column_names)\n",
    "print(data_frame)"
   ]
  },
  {
   "cell_type": "code",
   "execution_count": 4,
   "id": "ae1c2557-8b40-45c6-a059-222daea35ba9",
   "metadata": {},
   "outputs": [],
   "source": [
    "# 2. Menambahkan Kolom Baru"
   ]
  },
  {
   "cell_type": "code",
   "execution_count": 5,
   "id": "6810f43c-256a-41c5-880a-ddb082aff62a",
   "metadata": {},
   "outputs": [
    {
     "name": "stdout",
     "output_type": "stream",
     "text": [
      "   Zahra  Lily  Dito  Naufal  Janet\n",
      "0     64    60    65      37    129\n",
      "1     46    70    39      58     85\n",
      "2     10    74    73      25     83\n"
     ]
    }
   ],
   "source": [
    "data_frame[\"Janet\"] = data_frame[\"Zahra\"] + data_frame[\"Dito\"]\n",
    "print(data_frame)"
   ]
  },
  {
   "cell_type": "code",
   "execution_count": 6,
   "id": "bbd3874d-46b1-4192-9373-ab1da7013559",
   "metadata": {},
   "outputs": [],
   "source": [
    "# 3. Menentukan Subset"
   ]
  },
  {
   "cell_type": "code",
   "execution_count": 7,
   "id": "ef6b0ca1-2d3f-42c4-a7d1-f0a2c9b217eb",
   "metadata": {},
   "outputs": [
    {
     "name": "stdout",
     "output_type": "stream",
     "text": [
      "rows 0, 1, and 2\n",
      "   Zahra  Lily  Dito  Naufal  Janet\n",
      "0     64    60    65      37    129\n",
      "1     46    70    39      58     85\n",
      "2     10    74    73      25     83 \n",
      "\n",
      "row 1: \n",
      "   Zahra  Lily  Dito  Naufal  Janet\n",
      "1     46    70    39      58     85 \n",
      "\n",
      "row 1 and 2: \n",
      "   Zahra  Lily  Dito  Naufal  Janet\n",
      "1     46    70    39      58     85\n",
      "2     10    74    73      25     83 \n",
      "\n",
      "Column 'Janet'\n",
      "0    129\n",
      "1     85\n",
      "2     83\n",
      "Name: Janet, dtype: int32\n"
     ]
    }
   ],
   "source": [
    "print(\"rows 0, 1, and 2\")\n",
    "print(data_frame.head(3), \"\\n\")\n",
    "\n",
    "print(\"row 1: \")\n",
    "print(data_frame.iloc[[1]], '\\n')\n",
    "\n",
    "print(\"row 1 and 2: \")\n",
    "print(data_frame[1:3], '\\n')\n",
    "\n",
    "print(\"Column 'Janet'\")\n",
    "print(data_frame['Janet'])"
   ]
  }
 ],
 "metadata": {
  "kernelspec": {
   "display_name": "Python [conda env:base] *",
   "language": "python",
   "name": "conda-base-py"
  },
  "language_info": {
   "codemirror_mode": {
    "name": "ipython",
    "version": 3
   },
   "file_extension": ".py",
   "mimetype": "text/x-python",
   "name": "python",
   "nbconvert_exporter": "python",
   "pygments_lexer": "ipython3",
   "version": "3.12.7"
  }
 },
 "nbformat": 4,
 "nbformat_minor": 5
}
