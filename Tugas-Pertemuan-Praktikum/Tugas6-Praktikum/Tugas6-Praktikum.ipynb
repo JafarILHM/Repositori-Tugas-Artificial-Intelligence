{
 "cells": [
  {
   "cell_type": "code",
   "execution_count": 20,
   "id": "4db94651-b384-412b-8899-be858e2fc142",
   "metadata": {},
   "outputs": [],
   "source": [
    "import numpy as np"
   ]
  },
  {
   "cell_type": "code",
   "execution_count": 21,
   "id": "065c08d1-f629-492c-892c-105e3ad0ce3c",
   "metadata": {},
   "outputs": [],
   "source": [
    "# Dataset\n",
    "input_set = np.array([\n",
    "    [0,1,0],\n",
    "    [0,0,1],\n",
    "    [1,0,0],\n",
    "    [1,1,0],\n",
    "    [1,1,1],\n",
    "    [0,1,1],\n",
    "    [0,1,0]\n",
    "])\n",
    "\n",
    "# Dependent variable\n",
    "labels = np.array([[1,0,0,1,1,0,1]]).reshape(7,1)"
   ]
  },
  {
   "cell_type": "code",
   "execution_count": 22,
   "id": "428a1da7-d571-4414-a5ed-818146936231",
   "metadata": {},
   "outputs": [],
   "source": [
    "# Hyperparameter\n",
    "np.random.seed(42)\n",
    "weights_sm = np.random.rand(3,1)    # untuk model softmax\n",
    "bias_sm    = np.random.rand(1)\n",
    "weights_th = np.random.rand(3,1)    # untuk model tanh\n",
    "bias_th    = np.random.rand(1)\n",
    "\n",
    "lr    = 0.05    # learning rate\n",
    "epoch = 25000   # untuk nilai epoch soal 3(25000, 35000 dan 45000)"
   ]
  },
  {
   "cell_type": "code",
   "execution_count": 23,
   "id": "545f7869-0ac4-4b9f-9962-af99d22a50a2",
   "metadata": {},
   "outputs": [],
   "source": [
    "# Fungsi Aktivasi softmax dan Turunannya \n",
    "def softmax(x):\n",
    "    # x shape: (n_samples, 1)\n",
    "    exp_x = np.exp(x - np.max(x, axis=0, keepdims=True))\n",
    "    return exp_x / np.sum(exp_x, axis=0, keepdims=True)\n",
    "\n",
    "def softmax_derivative(output):\n",
    "    # turunan softmax sederhana untuk satu-unit output:\n",
    "    return output * (1 - output)"
   ]
  },
  {
   "cell_type": "code",
   "execution_count": 24,
   "id": "d908e458-a09c-4581-b768-69ca9754b7d5",
   "metadata": {},
   "outputs": [],
   "source": [
    "# Fungsi Aktivasi tanh dan Turunannya \n",
    "def tanh(x):\n",
    "    return np.tanh(x)\n",
    "\n",
    "def tanh_derivative(x):\n",
    "    # x sudah tanh(x), jadi derivative = 1 - x^2\n",
    "    return 1 - x**2"
   ]
  },
  {
   "cell_type": "code",
   "execution_count": 25,
   "id": "e7cbf39e-bed5-4fa2-8569-b13ddd62c3e0",
   "metadata": {},
   "outputs": [
    {
     "name": "stdout",
     "output_type": "stream",
     "text": [
      "[softmax] Epoch     0 — MAE: 0.5278\n",
      "[softmax] Epoch  5000 — MAE: 0.4286\n",
      "[softmax] Epoch 10000 — MAE: 0.4286\n",
      "[softmax] Epoch 15000 — MAE: 0.4286\n",
      "[softmax] Epoch 20000 — MAE: 0.4286\n",
      "[tanh] Epoch     0 — MAE: 0.4399\n",
      "[tanh] Epoch  5000 — MAE: 0.2839\n",
      "[tanh] Epoch 10000 — MAE: 0.2839\n",
      "[tanh] Epoch 15000 — MAE: 0.2839\n",
      "[tanh] Epoch 20000 — MAE: 0.2839\n"
     ]
    }
   ],
   "source": [
    "# Melatih Model\n",
    "for act in ['softmax', 'tanh']:\n",
    "    # pilih parameter & fungsi aktivasi sesuai pilihan\n",
    "    if act == 'softmax':\n",
    "        weights, bias = weights_sm.copy(), bias_sm.copy()\n",
    "        fwd, fwd_der = softmax, softmax_derivative\n",
    "    else:\n",
    "        weights, bias = weights_th.copy(), bias_th.copy()\n",
    "        fwd, fwd_der = tanh, tanh_derivative\n",
    "\n",
    "    for ep in range(epoch):\n",
    "        # -- Feedforward --\n",
    "        XW = np.dot(input_set, weights) + bias            \n",
    "        y_pred = fwd(XW)                                  # shape (7,1)\n",
    "\n",
    "        # -- Error dan Backpropagation --\n",
    "        error = y_pred - labels                           # shape (7,1)\n",
    "        dcost = error                                     # dL/dy_pred\n",
    "        dpred = fwd_der(y_pred if act=='softmax' else y_pred)\n",
    "        delta = dcost * dpred                             # shape (7,1)\n",
    "\n",
    "        # update weights & bias\n",
    "        weights -= lr * np.dot(input_set.T, delta)\n",
    "        bias    -= lr * np.sum(delta, axis=0)\n",
    "\n",
    "        # cetak loss tiap 5000 epoch\n",
    "        if ep % 5000 == 0:\n",
    "            loss = np.mean(np.abs(error))\n",
    "            print(f\"[{act}] Epoch {ep:5d} — MAE: {loss:.4f}\")\n",
    "\n",
    "    # simpan parameter akhir\n",
    "    if act == 'softmax':\n",
    "        weights_sm, bias_sm = weights, bias\n",
    "    else:\n",
    "        weights_th, bias_th = weights, bias"
   ]
  },
  {
   "cell_type": "code",
   "execution_count": 26,
   "id": "4809c0d1-7bc3-44e1-8b13-26d860ca6d97",
   "metadata": {},
   "outputs": [
    {
     "name": "stdout",
     "output_type": "stream",
     "text": [
      "\n",
      "=== Hasil Prediksi ===\n",
      "Input [0 1 0] → Softmax: 0.0000, Tanh: 0.7854, Label: 1\n",
      "Input [0 0 1] → Softmax: 0.0000, Tanh: -0.2300, Label: 0\n",
      "Input [1 0 0] → Softmax: 0.0000, Tanh: 0.2300, Label: 0\n",
      "Input [1 1 0] → Softmax: 0.0207, Tanh: 0.8292, Label: 1\n",
      "Input [1 1 1] → Softmax: 0.9793, Tanh: 0.6878, Label: 1\n",
      "Input [0 1 1] → Softmax: 0.0000, Tanh: 0.6152, Label: 0\n",
      "Input [0 1 0] → Softmax: 0.0000, Tanh: 0.7854, Label: 1\n"
     ]
    }
   ],
   "source": [
    "# Prediksi dan Hasil Akhir\n",
    "out_sm = softmax(np.dot(input_set, weights_sm) + bias_sm)\n",
    "out_th = tanh(np.dot(input_set, weights_th) + bias_th)\n",
    "\n",
    "print(\"\\n=== Hasil Prediksi ===\")\n",
    "for i in range(len(input_set)):\n",
    "    print(f\"Input {input_set[i]} → \"\n",
    "          f\"Softmax: {out_sm[i,0]:.4f}, \"\n",
    "          f\"Tanh: {out_th[i,0]:.4f}, \"\n",
    "          f\"Label: {labels[i,0]}\")"
   ]
  }
 ],
 "metadata": {
  "kernelspec": {
   "display_name": "Python 3 (ipykernel)",
   "language": "python",
   "name": "python3"
  },
  "language_info": {
   "codemirror_mode": {
    "name": "ipython",
    "version": 3
   },
   "file_extension": ".py",
   "mimetype": "text/x-python",
   "name": "python",
   "nbconvert_exporter": "python",
   "pygments_lexer": "ipython3",
   "version": "3.12.7"
  }
 },
 "nbformat": 4,
 "nbformat_minor": 5
}
