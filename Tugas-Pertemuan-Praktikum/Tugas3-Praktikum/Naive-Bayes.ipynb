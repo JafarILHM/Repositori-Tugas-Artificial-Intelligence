{
 "cells": [
  {
   "cell_type": "code",
   "execution_count": 2,
   "id": "269a3478-e423-4f97-8f2c-989eeda2bc0a",
   "metadata": {},
   "outputs": [],
   "source": [
    "from csv import reader\n",
    "from math import sqrt, pi, exp"
   ]
  },
  {
   "cell_type": "code",
   "execution_count": 3,
   "id": "e9aba3ce-c113-4c66-8f47-495ad704ad31",
   "metadata": {},
   "outputs": [],
   "source": [
    "# Fungsi untuk membaca CSV\n",
    "def load_csv(filename):\n",
    "    dataset = []\n",
    "    with open(filename, 'r') as file:\n",
    "        csv_reader = reader(file)\n",
    "        for row in csv_reader:  \n",
    "            if row:\n",
    "                dataset.append(row) \n",
    "    return dataset"
   ]
  },
  {
   "cell_type": "code",
   "execution_count": 4,
   "id": "6cf0aede-045d-4040-9c00-846450f5a84c",
   "metadata": {},
   "outputs": [],
   "source": [
    "# Fungsi untuk mengonversi kolom fitur menjadi float\n",
    "def str_column_to_float(dataset, column): \n",
    "    for row in dataset:\n",
    "        row[column] = float(row[column]) "
   ]
  },
  {
   "cell_type": "code",
   "execution_count": 5,
   "id": "5ef30cdc-2503-4e8c-b754-efc4db2f1a36",
   "metadata": {},
   "outputs": [],
   "source": [
    "# Fungsi untuk mengonversi kelas menjadi angka (encoding)\n",
    "def str_column_to_int(dataset, column): \n",
    "    class_values = [row[column] for row in dataset] \n",
    "    unique_classes = set(class_values)\n",
    "    lookup = {value: i for i, value in enumerate(unique_classes)}\n",
    "    for row in dataset:\n",
    "        row[column] = lookup[row[column]]  \n",
    "    return lookup"
   ]
  },
  {
   "cell_type": "code",
   "execution_count": 6,
   "id": "8466c977-59e9-48cb-ad58-dd776ce80636",
   "metadata": {},
   "outputs": [],
   "source": [
    "# Fungsi untuk memisahkan data berdasarkan kelas\n",
    "def separate_by_class(dataset): \n",
    "    separated = {} \n",
    "    for row in dataset:\n",
    "        class_value = row[-1]\n",
    "        if class_value not in separated:\n",
    "            separated[class_value] = [] \n",
    "        separated[class_value].append(row)  \n",
    "    return separated"
   ]
  },
  {
   "cell_type": "code",
   "execution_count": 7,
   "id": "fa36cd28-94ac-4e5a-afd1-660a6fc2ed25",
   "metadata": {},
   "outputs": [],
   "source": [
    "# Fungsi untuk menghitung rata-rata\n",
    "def mean(numbers): \n",
    "    return sum(numbers) / float(len(numbers))  "
   ]
  },
  {
   "cell_type": "code",
   "execution_count": 8,
   "id": "babe91a9-f693-447a-a30b-13d3264c26e9",
   "metadata": {},
   "outputs": [],
   "source": [
    "# Fungsi untuk menghitung standar deviasi\n",
    "def stdev(numbers): \n",
    "    avg = mean(numbers)\n",
    "    variance = sum([(x - avg) ** 2 for x in numbers]) / float(len(numbers) - 1)  \n",
    "    return sqrt(variance)  "
   ]
  },
  {
   "cell_type": "code",
   "execution_count": 9,
   "id": "542f28f4-0236-41b4-b4ca-9e7602c60680",
   "metadata": {},
   "outputs": [],
   "source": [
    "# Menghitung mean dan standar deviasi dari dataset\n",
    "def summarize_dataset(dataset):  \n",
    "    summaries = [(mean(column), stdev(column)) for column in zip(*dataset)] \n",
    "    del summaries[-1] \n",
    "    return summaries"
   ]
  },
  {
   "cell_type": "code",
   "execution_count": 10,
   "id": "eb675a55-7ac2-4643-b66c-565c5f9057db",
   "metadata": {},
   "outputs": [],
   "source": [
    "# Meringkas dataset berdasarkan kelas\n",
    "def summarize_by_class(dataset): \n",
    "    separated = separate_by_class(dataset)  \n",
    "    summaries = {}\n",
    "    for class_value, rows in separated.items():\n",
    "        summaries[class_value] = summarize_dataset(rows)\n",
    "    return summaries"
   ]
  },
  {
   "cell_type": "code",
   "execution_count": 11,
   "id": "5019322d-c8ee-40df-90b0-c1275c080506",
   "metadata": {},
   "outputs": [],
   "source": [
    "# Menghitung probabilitas Gaussian\n",
    "def calculate_probability(x, mean, stdev):  \n",
    "    exponent = exp(-((x - mean) ** 2 / (2 * stdev ** 2)))\n",
    "    return (1 / (sqrt(2 * pi) * stdev)) * exponent  "
   ]
  },
  {
   "cell_type": "code",
   "execution_count": 12,
   "id": "5c172d07-f72f-4cf3-87ff-44ce9f515c2f",
   "metadata": {},
   "outputs": [],
   "source": [
    "# Menghitung probabilitas tiap kelas\n",
    "def calculate_class_probabilities(summaries, row): \n",
    "    probabilities = {}\n",
    "    for class_value, class_summaries in summaries.items():\n",
    "        probabilities[class_value] = 1\n",
    "        for i in range(len(class_summaries)):\n",
    "            mean, stdev = class_summaries[i] \n",
    "            probabilities[class_value] *= calculate_probability(row[i], mean, stdev)  \n",
    "    return probabilities"
   ]
  },
  {
   "cell_type": "code",
   "execution_count": 13,
   "id": "774504bf-a7d7-4628-814c-a2153a2d50ed",
   "metadata": {},
   "outputs": [],
   "source": [
    "# Prediksi kelas berdasarkan probabilitas tertinggi\n",
    "def predict(summaries, row):  \n",
    "    probabilities = calculate_class_probabilities(summaries, row)\n",
    "    best_label, best_prob = None, -1\n",
    "    for class_value, probability in probabilities.items():\n",
    "        if best_label is None or probability > best_prob:\n",
    "            best_prob = probability\n",
    "            best_label = class_value\n",
    "    return best_label"
   ]
  },
  {
   "cell_type": "code",
   "execution_count": 14,
   "id": "fedd428f-8cf8-43b5-a3d5-e53248009ba0",
   "metadata": {},
   "outputs": [],
   "source": [
    "# Load dataset\n",
    "filename = filename = \"D:/Kampus/Semester 4/Artificial Intelligence/Tugas Praktikum/Tugas-3-Program/iris.csv\"  \n",
    "dataset = load_csv(filename)\n",
    "dataset = dataset[1:]  # Hapus header"
   ]
  },
  {
   "cell_type": "code",
   "execution_count": 15,
   "id": "b1757466-4e48-4137-b7e6-d72df64288a2",
   "metadata": {},
   "outputs": [],
   "source": [
    "# Konversi fitur ke float\n",
    "for i in range(len(dataset[0]) - 1):  \n",
    "    str_column_to_float(dataset, i)"
   ]
  },
  {
   "cell_type": "code",
   "execution_count": 16,
   "id": "c2bbd1ff-854a-4aa4-859e-8f13dbb9a3cf",
   "metadata": {},
   "outputs": [],
   "source": [
    "# Konversi kelas ke angka\n",
    "class_mapping = str_column_to_int(dataset, len(dataset[0]) - 1)"
   ]
  },
  {
   "cell_type": "code",
   "execution_count": 17,
   "id": "effe2b11-d4f7-40a9-aa70-2ebe4dd570cc",
   "metadata": {},
   "outputs": [],
   "source": [
    "# Ringkas dataset berdasarkan kelas\n",
    "model = summarize_by_class(dataset)"
   ]
  },
  {
   "cell_type": "code",
   "execution_count": 18,
   "id": "7bb0c590-25aa-4f73-a8de-91e264cdc35d",
   "metadata": {},
   "outputs": [
    {
     "name": "stdout",
     "output_type": "stream",
     "text": [
      "Hasil Output:\n",
      "Data=[7.2, 5.5, 5.4, 2.2], Predicted: 1 (Virginica)\n"
     ]
    }
   ],
   "source": [
    "# Uji prediksi\n",
    "uji_data = [7.2, 5.5, 5.4, 2.2]  # Isi dengan input dari fitur X1, X2, X3, X4\n",
    "label = predict(model, uji_data)\n",
    "print(\"Hasil Output:\")\n",
    "print(f'Data={uji_data}, Predicted: {label} ({list(class_mapping.keys())[list(class_mapping.values()).index(label)]})')   "
   ]
  }
 ],
 "metadata": {
  "kernelspec": {
   "display_name": "Python [conda env:base] *",
   "language": "python",
   "name": "conda-base-py"
  },
  "language_info": {
   "codemirror_mode": {
    "name": "ipython",
    "version": 3
   },
   "file_extension": ".py",
   "mimetype": "text/x-python",
   "name": "python",
   "nbconvert_exporter": "python",
   "pygments_lexer": "ipython3",
   "version": "3.12.7"
  }
 },
 "nbformat": 4,
 "nbformat_minor": 5
}
