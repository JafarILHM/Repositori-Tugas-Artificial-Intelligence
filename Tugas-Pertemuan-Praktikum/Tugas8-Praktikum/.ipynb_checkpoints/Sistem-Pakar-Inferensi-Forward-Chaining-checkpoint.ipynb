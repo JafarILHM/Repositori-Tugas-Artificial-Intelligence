{
 "cells": [
  {
   "cell_type": "code",
   "execution_count": 25,
   "id": "1fe549cc-d93a-43bb-9177-30e38407cf57",
   "metadata": {},
   "outputs": [
    {
     "name": "stdout",
     "output_type": "stream",
     "text": [
      "Masukkan fakta awal (contoh: gives milk), ketik 'selesai' untuk berhenti:\n"
     ]
    },
    {
     "name": "stdin",
     "output_type": "stream",
     "text": [
      "Fakta:  gives milk\n",
      "Fakta:  eats meat\n",
      "Fakta:  tawny color\n",
      "Fakta:  has dark spots\n",
      "Fakta:  selesai\n"
     ]
    }
   ],
   "source": [
    "global facts\n",
    "global is_changed\n",
    "\n",
    "is_changed = True\n",
    "facts = []\n",
    "\n",
    "# Soal No 2: Untuk memenuhi soal no 2, mengubah struktur program\n",
    "# Input interaktif\n",
    "print(\"Masukkan fakta awal (contoh: gives milk), ketik 'selesai' untuk berhenti:\")\n",
    "while True:\n",
    "    user_input = input(\"Fakta: \")\n",
    "    if user_input.lower() == \"selesai\":\n",
    "        break\n",
    "    facts.append([user_input.strip(), \"x\"])"
   ]
  },
  {
   "cell_type": "code",
   "execution_count": 26,
   "id": "53f256bb-e625-4c55-a8e7-0de850f7d9d7",
   "metadata": {},
   "outputs": [],
   "source": [
    "# Soal No 3: Untuk memenuhi soal no 3\n",
    "# Function untuk menambahkan fakta baru\n",
    "def assert_fact(fact):\n",
    "    global facts\n",
    "    global is_changed\n",
    "    if fact not in facts:\n",
    "        facts.append(fact)\n",
    "        is_changed = True\n",
    "        print(f\"Fakta baru ditemukan: {fact}\")"
   ]
  },
  {
   "cell_type": "code",
   "execution_count": 27,
   "id": "c37e83ab-5983-41f0-a7a8-0030f76f3f39",
   "metadata": {},
   "outputs": [
    {
     "name": "stdout",
     "output_type": "stream",
     "text": [
      "Fakta baru ditemukan: ['is mammal', 'x']\n",
      "Fakta baru ditemukan: ['is carnivore', 'x']\n",
      "Fakta baru ditemukan: ['is cheetah', 'x']\n"
     ]
    }
   ],
   "source": [
    "# Knowledge base\n",
    "while is_changed:\n",
    "    is_changed = False\n",
    "    for xf in facts:\n",
    "        # Total Rule 1–15\n",
    "        if xf[0] == \"has hair\":\n",
    "            assert_fact([\"is mammal\", xf[1]])\n",
    "        if xf[0] == \"gives milk\":\n",
    "            assert_fact([\"is mammal\", xf[1]])\n",
    "        if xf[0] == \"has feathers\":\n",
    "            assert_fact([\"is bird\", xf[1]])\n",
    "        if xf[0] == \"flies\":\n",
    "            assert_fact([\"is bird\", xf[1]])\n",
    "        \n",
    "        if xf[0] == \"is mammal\" and [\"eats meat\", xf[1]] in facts:\n",
    "            assert_fact([\"is carnivore\", xf[1]])\n",
    "        if xf[0] == \"is mammal\" and \\\n",
    "            [\"has pointed teeth\", xf[1]] in facts and \\\n",
    "            [\"has claws\", xf[1]] in facts and \\\n",
    "            [\"has forward pointing eyes\", xf[1]] in facts:\n",
    "            assert_fact([\"is carnivore\", xf[1]])\n",
    "        if xf[0] == \"is mammal\" and [\"has hoofs\", xf[1]] in facts:\n",
    "            assert_fact([\"is ungulate\", xf[1]])\n",
    "        if xf[0] == \"is mammal\" and \\\n",
    "            [\"chews cud\", xf[1]] in facts and \\\n",
    "            [\"is ungulate\", xf[1]] in facts:\n",
    "            assert_fact([\"is even-toed\", xf[1]])\n",
    "        if xf[0] == \"is carnivore\" and \\\n",
    "            [\"tawny color\", xf[1]] in facts and \\\n",
    "            [\"has dark spots\", xf[1]] in facts:\n",
    "            assert_fact([\"is cheetah\", xf[1]])\n",
    "        if xf[0] == \"is carnivore\" and \\\n",
    "            [\"tawny color\", xf[1]] in facts and \\\n",
    "            [\"has black stripes\", xf[1]] in facts:\n",
    "            assert_fact([\"is tiger\", xf[1]])\n",
    "        \n",
    "        # Soal No 1: Untuk memenuhi soal no 1, menambah 5 rule\n",
    "        # Rule 11–15\n",
    "        if xf[0] == \"is carnivore\" and [\"has mane\", xf[1]] in facts:\n",
    "            assert_fact([\"is lion\", xf[1]])\n",
    "        if xf[0] == \"is even-toed\" and \\\n",
    "            [\"has long neck\", xf[1]] in facts and \\\n",
    "            [\"has long legs\", xf[1]] in facts and \\\n",
    "            [\"has dark spots\", xf[1]] in facts:\n",
    "            assert_fact([\"is giraffe\", xf[1]])\n",
    "        if xf[0] == \"is even-toed\" and \\\n",
    "            [\"white color\", xf[1]] in facts and \\\n",
    "            [\"has black stripes\", xf[1]] in facts:\n",
    "            assert_fact([\"is zebra\", xf[1]])\n",
    "        if xf[0] == \"is bird\" and \\\n",
    "            [\"does not fly\", xf[1]] in facts and \\\n",
    "            [\"has long neck\", xf[1]] in facts:\n",
    "            assert_fact([\"is ostrich\", xf[1]])\n",
    "        if xf[0] == \"is bird\" and \\\n",
    "            [\"flies\", xf[1]] in facts and \\\n",
    "            [\"is black and white\", xf[1]] in facts:\n",
    "            assert_fact([\"is penguin\", xf[1]])"
   ]
  },
  {
   "cell_type": "code",
   "execution_count": 28,
   "id": "cbb0d138-33c0-4b01-908f-ff62b4d40734",
   "metadata": {},
   "outputs": [
    {
     "name": "stdout",
     "output_type": "stream",
     "text": [
      "\n",
      "=== Semua Fakta yang Diketahui ===\n",
      "['gives milk', 'x']\n",
      "['eats meat', 'x']\n",
      "['tawny color', 'x']\n",
      "['has dark spots', 'x']\n",
      "['is mammal', 'x']\n",
      "['is carnivore', 'x']\n",
      "['is cheetah', 'x']\n"
     ]
    }
   ],
   "source": [
    "# Menampilkan semua fakta yang telah diinferensi\n",
    "print(\"\\n=== Semua Fakta yang Diketahui ===\")\n",
    "for fact in facts:\n",
    "    print(fact)"
   ]
  }
 ],
 "metadata": {
  "kernelspec": {
   "display_name": "Python 3 (ipykernel)",
   "language": "python",
   "name": "python3"
  },
  "language_info": {
   "codemirror_mode": {
    "name": "ipython",
    "version": 3
   },
   "file_extension": ".py",
   "mimetype": "text/x-python",
   "name": "python",
   "nbconvert_exporter": "python",
   "pygments_lexer": "ipython3",
   "version": "3.12.7"
  }
 },
 "nbformat": 4,
 "nbformat_minor": 5
}
