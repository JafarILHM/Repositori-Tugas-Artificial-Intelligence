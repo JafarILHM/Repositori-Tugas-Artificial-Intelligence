{
 "cells": [
  {
   "cell_type": "code",
   "execution_count": 1,
   "id": "9bf2dc53-cfd3-480d-8dbe-be8d2f5be8f8",
   "metadata": {},
   "outputs": [],
   "source": [
    "import numpy as np\n",
    "import pandas as pd"
   ]
  },
  {
   "cell_type": "code",
   "execution_count": 2,
   "id": "4a980238-d1a4-45e0-a4f7-7394937c3df0",
   "metadata": {},
   "outputs": [],
   "source": [
    "# 1. Membuat DataFrame 3×4 dengan Kolom Zahra, Lily, Dito, dan Naufal"
   ]
  },
  {
   "cell_type": "code",
   "execution_count": 3,
   "id": "9bc5234b-e0d8-41a4-9333-a0edb8a0ea3e",
   "metadata": {},
   "outputs": [],
   "source": [
    "np.random.seed(42)\n",
    "data = np.random.randint(0, 101, size=(3, 4))\n",
    "\n",
    "column_names = [\"Zahra\", \"Lily\", \"Dito\", \"Naufal\"]\n",
    "df = pd.DataFrame(data, columns=column_names)"
   ]
  },
  {
   "cell_type": "code",
   "execution_count": 4,
   "id": "ae1c2557-8b40-45c6-a059-222daea35ba9",
   "metadata": {},
   "outputs": [],
   "source": [
    "# 2. Menampilkan Seluruh DataFrame"
   ]
  },
  {
   "cell_type": "code",
   "execution_count": 5,
   "id": "6810f43c-256a-41c5-880a-ddb082aff62a",
   "metadata": {},
   "outputs": [
    {
     "name": "stdout",
     "output_type": "stream",
     "text": [
      "   Zahra  Lily  Dito  Naufal\n",
      "0     51    92    14      71\n",
      "1     60    20    82      86\n",
      "2     74    74    87      99 \n",
      "\n"
     ]
    }
   ],
   "source": [
    "print(df, \"\\n\")"
   ]
  },
  {
   "cell_type": "code",
   "execution_count": 6,
   "id": "bbd3874d-46b1-4192-9373-ab1da7013559",
   "metadata": {},
   "outputs": [],
   "source": [
    "# 3. Menampilkan Nilai dalam Sel Baris #1 dari Kolom Tertentu"
   ]
  },
  {
   "cell_type": "code",
   "execution_count": 7,
   "id": "ef6b0ca1-2d3f-42c4-a7d1-f0a2c9b217eb",
   "metadata": {},
   "outputs": [
    {
     "name": "stdout",
     "output_type": "stream",
     "text": [
      "Baris #1, Kolom Lily (Kelas A): 92\n",
      "Baris #1, Kolom Naufal (Kelas B): 71\n",
      "Baris #1, Kolom Zahra (Kelas C): 51\n",
      "\n"
     ]
    }
   ],
   "source": [
    "print(f\"Baris #1, Kolom Lily (Kelas A): {df.loc[0, 'Lily']}\")\n",
    "print(f\"Baris #1, Kolom Naufal (Kelas B): {df.loc[0, 'Naufal']}\")\n",
    "print(f\"Baris #1, Kolom Zahra (Kelas C): {df.loc[0, 'Zahra']}\\n\")"
   ]
  },
  {
   "cell_type": "code",
   "execution_count": 8,
   "id": "a2e264bd-bac4-487d-8d78-477ac10d2c26",
   "metadata": {},
   "outputs": [],
   "source": [
    "# 4. Menambahkan Kolom Kelima Bernama \"Janet\""
   ]
  },
  {
   "cell_type": "code",
   "execution_count": 9,
   "id": "ef90692e-d41f-47f8-b456-798af420597f",
   "metadata": {},
   "outputs": [],
   "source": [
    "df[\"Janet\"] = df[\"Zahra\"] + df[\"Dito\"]"
   ]
  },
  {
   "cell_type": "code",
   "execution_count": 10,
   "id": "0f86b727-3b9c-4dc7-aa80-b37c4e3d88e9",
   "metadata": {},
   "outputs": [],
   "source": [
    "# 5. Menampilkan DataFrame Setelah Menambahkan Kolom \"Janet\""
   ]
  },
  {
   "cell_type": "code",
   "execution_count": 11,
   "id": "0252fd60-fd1d-4dd4-93e4-cbae69a0fd03",
   "metadata": {},
   "outputs": [
    {
     "name": "stdout",
     "output_type": "stream",
     "text": [
      "   Zahra  Lily  Dito  Naufal  Janet\n",
      "0     51    92    14      71     65\n",
      "1     60    20    82      86    142\n",
      "2     74    74    87      99    161\n"
     ]
    }
   ],
   "source": [
    "print(df)"
   ]
  }
 ],
 "metadata": {
  "kernelspec": {
   "display_name": "Python [conda env:base] *",
   "language": "python",
   "name": "conda-base-py"
  },
  "language_info": {
   "codemirror_mode": {
    "name": "ipython",
    "version": 3
   },
   "file_extension": ".py",
   "mimetype": "text/x-python",
   "name": "python",
   "nbconvert_exporter": "python",
   "pygments_lexer": "ipython3",
   "version": "3.12.7"
  }
 },
 "nbformat": 4,
 "nbformat_minor": 5
}
